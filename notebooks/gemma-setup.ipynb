{
 "cells": [
  {
   "cell_type": "markdown",
   "id": "0f17a440-5e0a-471e-97ff-1c76b350b5d1",
   "metadata": {},
   "source": [
    "# Gemma Model Setup"
   ]
  },
  {
   "cell_type": "code",
   "execution_count": null,
   "id": "878289ba-c35c-4bca-8190-d77349980cdc",
   "metadata": {},
   "outputs": [],
   "source": [
    "import kagglehub\n",
    "\n",
    "kagglehub.login()"
   ]
  },
  {
   "cell_type": "code",
   "execution_count": null,
   "id": "1c85315c-5c32-4065-bec7-40226841ed40",
   "metadata": {},
   "outputs": [],
   "source": [
    "from dotenv import load_dotenv\n",
    "import os\n",
    "\n",
    "# Path and load the .env file \n",
    "dotenv_path = \"../.env\"\n",
    "load_dotenv(dotenv_path)\n",
    "\n",
    "# Access the environment variables\n",
    "kaggle_username = os.getenv(\"KAGGLE_USERNAME\")\n",
    "kaggle_key = os.getenv(\"KAGGLE_KEY\")\n",
    "\n",
    "# Verify the variables (for debugging purposes)\n",
    "# print(f\"Kaggle Username: {kaggle_username}\")\n",
    "# print(f\"Kaggle Key: {kaggle_key}\")"
   ]
  },
  {
   "cell_type": "code",
   "execution_count": null,
   "id": "3927a868-dd92-4c7a-9111-5f130d226655",
   "metadata": {},
   "outputs": [],
   "source": []
  },
  {
   "cell_type": "code",
   "execution_count": null,
   "id": "ea39337e-e0c9-4ed1-8499-a13e3a296b6a",
   "metadata": {},
   "outputs": [],
   "source": []
  },
  {
   "cell_type": "code",
   "execution_count": null,
   "id": "eeaa9075-c58f-4de5-88ee-c6777fa36dc7",
   "metadata": {},
   "outputs": [],
   "source": []
  },
  {
   "cell_type": "code",
   "execution_count": null,
   "id": "7f875f6d-3d4b-4f1a-85f3-4e80b20b8adc",
   "metadata": {},
   "outputs": [],
   "source": []
  }
 ],
 "metadata": {
  "kernelspec": {
   "display_name": "Python 3 (ipykernel)",
   "language": "python",
   "name": "python3"
  },
  "language_info": {
   "codemirror_mode": {
    "name": "ipython",
    "version": 3
   },
   "file_extension": ".py",
   "mimetype": "text/x-python",
   "name": "python",
   "nbconvert_exporter": "python",
   "pygments_lexer": "ipython3",
   "version": "3.10.15"
  }
 },
 "nbformat": 4,
 "nbformat_minor": 5
}
